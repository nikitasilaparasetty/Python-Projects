{
 "cells": [
  {
   "cell_type": "markdown",
   "id": "55efcba3",
   "metadata": {},
   "source": [
    "# How to Learn Python the Fun Way by Coding Easy Games"
   ]
  },
  {
   "cell_type": "markdown",
   "id": "02287603",
   "metadata": {},
   "source": [
    "These simple but fun games will not just entertain you, but also help you learn some fundamental Python concepts! You will be able to practice working with conditional statements, loops, logical operators, and additional Python libraries. \n",
    "\n",
    "*Explanations are provided within the code cells. Suggestions are provided after each code on how to improve the game further.*"
   ]
  },
  {
   "cell_type": "markdown",
   "id": "fc45c51c",
   "metadata": {},
   "source": [
    "## 1. Coin Toss"
   ]
  },
  {
   "cell_type": "markdown",
   "id": "54f0f197",
   "metadata": {},
   "source": [
    "This game is a simulation of a coin toss, where the user has to choose between heads or tails. The computer will also randomly choose one of the two options. If the user selects the same choice as the computer, they win. If not, they lose. "
   ]
  },
  {
   "cell_type": "markdown",
   "id": "b7b5d1be",
   "metadata": {},
   "source": [
    "### Concepts Learned\n",
    "\n",
    "1. Choosing a random value from a give list using the 'random' Python library\n",
    "2. Working with Lists\n",
    "3. The while loop\n",
    "4. The if-elif-else conditional statements\n",
    "5. The break statement"
   ]
  },
  {
   "cell_type": "code",
   "execution_count": 1,
   "id": "077b5184",
   "metadata": {},
   "outputs": [],
   "source": [
    "# Import the necessary Python library\n",
    "\n",
    "import random"
   ]
  },
  {
   "cell_type": "code",
   "execution_count": 2,
   "id": "5f4559f6",
   "metadata": {},
   "outputs": [],
   "source": [
    "# Define an empty variable 'i'\n",
    "# This will later store the user's input\n",
    "# The double quotes with nothing inside them implies an empty string\n",
    "\n",
    "i = \"\"\n",
    "\n",
    "\n",
    "# Define a list containing the possible options - Heads or Tails\n",
    "\n",
    "n = [\"heads\",\"tails\"]"
   ]
  },
  {
   "cell_type": "code",
   "execution_count": 3,
   "id": "95ca0063",
   "metadata": {
    "scrolled": true
   },
   "outputs": [
    {
     "name": "stdout",
     "output_type": "stream",
     "text": [
      "Welcome to the Coin Toss Game!\n",
      "You can type 'quit' to quit the game anytime.\n",
      "Let's begin!\n",
      "Heads or Tails? heads\n",
      "You chose heads\n",
      "The coin shows heads\n",
      "You win, congratulations! Let's play again!\n",
      "Heads or Tails? TAILS\n",
      "You chose tails\n",
      "The coin shows tails\n",
      "You win, congratulations! Let's play again!\n",
      "Heads or Tails? hello\n",
      "Invalid response, please try again\n",
      "Heads or Tails? quit\n",
      "Thanks for playing!\n"
     ]
    }
   ],
   "source": [
    "# Print greetings\n",
    "print(\"Welcome to the Coin Toss Game!\")\n",
    "print(\"You can type 'quit' to quit the game anytime.\")\n",
    "print(\"Let's begin!\")\n",
    "\n",
    "# Open a while loop\n",
    "while True:\n",
    "    \n",
    "    # Allow the computer to randomly choose one option from the given list and store it in 'c'\n",
    "    c = random.choice(n)\n",
    "    \n",
    "    # Input the user's response\n",
    "    # Use '.lower()' to convert the string into lowercase\n",
    "    i = input(\"Heads or Tails? \").lower()\n",
    "    \n",
    "    # If the program's choice and user's choice are the same, the user wins\n",
    "    if i == c:\n",
    "        print(\"You chose\", i)\n",
    "        print(\"The coin shows\", c)\n",
    "        print(\"You win, congratulations! Let's play again!\")\n",
    "    \n",
    "    # If the program's choice and user's choice are different, the user doesn't win\n",
    "    elif i != c:\n",
    "        if i in n:\n",
    "            print(\"You chose\", i)\n",
    "            print(\"The coin shows\", c)\n",
    "            print(\"You lose, but you can always try again!\")\n",
    "        \n",
    "        # If the user enters 'quit', the game stops\n",
    "        elif i == \"quit\":\n",
    "            print(\"Thanks for playing!\")\n",
    "            break\n",
    "        \n",
    "        # If the response is invalid, the program prompts the user to try again\n",
    "        else:\n",
    "            print(\"Invalid response, please try again\")\n",
    "    "
   ]
  },
  {
   "cell_type": "markdown",
   "id": "dcd79f57",
   "metadata": {},
   "source": [
    "### Additional Practice"
   ]
  },
  {
   "cell_type": "markdown",
   "id": "60a5605c",
   "metadata": {},
   "source": [
    "Here are some ideas for how you can improve this program:\n",
    "\n",
    "1. The program can count the number of wins and losses and display it when the user decides to exit the game, or after every play. \n",
    "2. The program can ask the user to enter the number of tosses that they would like. For example, let's say the user wants 5 tosses. The program can then input the user's choice, 'flip' the coin 5 times, and display the result of each turn, along with the final outcome of the whole game, i.e., if the user won or lost. \n",
    "\n"
   ]
  },
  {
   "cell_type": "markdown",
   "id": "2d43aa80",
   "metadata": {},
   "source": [
    "*******************"
   ]
  },
  {
   "cell_type": "markdown",
   "id": "d7e45a61",
   "metadata": {},
   "source": [
    "## 2. Number Guessing Game"
   ]
  },
  {
   "cell_type": "markdown",
   "id": "cb8199f8",
   "metadata": {},
   "source": [
    "In this game, the computer will generate a random number between 1 and 100. The user must try to guess what that number is. With every incorrect input, the computer will inform the user if their guess is either too high or too low, and then allow the user to try again. The game ends when the user guesses the correct value. The number of attempts taken to guess the correct number will be displayed as well. "
   ]
  },
  {
   "cell_type": "markdown",
   "id": "79d3f09e",
   "metadata": {},
   "source": [
    "### Concepts Learned:\n",
    "\n",
    "1. Choosing a random integer from a given range using the 'random' Python library\n",
    "2. Working with Lists\n",
    "3. The while loop\n",
    "4. The if-elif-else conditional statements\n",
    "5. Incrementing numeric variables as a counting method"
   ]
  },
  {
   "cell_type": "code",
   "execution_count": 4,
   "id": "a0ebd6cd",
   "metadata": {},
   "outputs": [],
   "source": [
    "# Import the necessary Python library\n",
    "\n",
    "import random"
   ]
  },
  {
   "cell_type": "code",
   "execution_count": 5,
   "id": "6a8be3fa",
   "metadata": {},
   "outputs": [],
   "source": [
    "# Use the 'random.randint()' function to randomly select an integer between 1 and 100.\n",
    "\n",
    "n = random.randint(1,100)\n",
    "\n",
    "# Define variables 'i' and 'attempts', each with value 0\n",
    "# 'i' will store the user's input\n",
    "# 'attempts' will store the number of attempts the user took to guess correctly\n",
    "\n",
    "i = 0\n",
    "attempts = 0"
   ]
  },
  {
   "cell_type": "code",
   "execution_count": 6,
   "id": "4eb148c0",
   "metadata": {},
   "outputs": [
    {
     "name": "stdout",
     "output_type": "stream",
     "text": [
      "Welcome to the number guessing game!\n",
      "The rules are simple:\n",
      "All you need to do is guess the number that I have chosen.\n",
      "I will give you hints along the way. How quickly do you think you can guess the right number?\n",
      "All the best!\n",
      "What number do you think I've picked?50\n",
      "Sorry, my number is greater than that. Try again!\n",
      "What number do you think I've picked?70\n",
      "Sorry, my number is greater than that. Try again!\n",
      "What number do you think I've picked?90\n",
      "Sorry, my number is less than that. Try again!\n",
      "What number do you think I've picked?80\n",
      "Sorry, my number is greater than that. Try again!\n",
      "What number do you think I've picked?85\n",
      "Sorry, my number is less than that. Try again!\n",
      "What number do you think I've picked?83\n",
      "Sorry, my number is less than that. Try again!\n",
      "What number do you think I've picked?81\n",
      "Good job! 81 is the correct answer!\n",
      "You took 7 attempts.\n"
     ]
    }
   ],
   "source": [
    "# Print greetings\n",
    "print(\"Welcome to the number guessing game!\")\n",
    "print(\"The rules are simple:\")\n",
    "print(\"All you need to do is guess the number that I have chosen.\")\n",
    "print(\"I will give you hints along the way. How quickly do you think you can guess the right number?\")\n",
    "print(\"All the best!\")\n",
    "\n",
    "# Open a while loop\n",
    "while True:\n",
    "    \n",
    "    # Increment the number of attempts by 1\n",
    "    attempts+=1\n",
    "    \n",
    "    # Accept the user's guess\n",
    "    i = int(input(\"What number do you think I've picked?\"))\n",
    "    \n",
    "    # Check the user's input and output the appropriate response\n",
    "    if i < n:\n",
    "        print(\"Sorry, my number is greater than that. Try again!\")\n",
    "        \n",
    "    elif i > n:\n",
    "        print(\"Sorry, my number is less than that. Try again!\")\n",
    "    else:\n",
    "        print(\"Good job!\", i, \"is the correct answer!\")\n",
    "        print(\"You took\", attempts, \"attempts.\")\n",
    "        \n",
    "        # Exit the loop\n",
    "        break"
   ]
  },
  {
   "cell_type": "markdown",
   "id": "cb513a5e",
   "metadata": {},
   "source": [
    "### Additional Practice"
   ]
  },
  {
   "cell_type": "markdown",
   "id": "e305ef8f",
   "metadata": {},
   "source": [
    "Here are some ideas for how you can improve this program:\n",
    "\n",
    "1. Identify an invalid reponse and allow the user to try again without counting the invalid input as an attempt. For example, if the user enters a string instead of an integer, the program should recognise this error and prompt the user to enter a correct value, without counting the invalid input as an attempt.\n",
    "2. Allow the user to pick a difficulty level. For example - \n",
    "    Easy: Range 0 to 100\n",
    "    Medium: Range 0 to 500\n",
    "    Hard: Range 0 to 1000\n",
    "3. Allow the user to pick the range that they want. For example, if the user inputs the starting number as 200 and the ending number as 30,000, the program must choose a number within the range of 200 and 30,000. \n"
   ]
  },
  {
   "cell_type": "markdown",
   "id": "11836064",
   "metadata": {},
   "source": [
    "******"
   ]
  },
  {
   "cell_type": "markdown",
   "id": "491adcff",
   "metadata": {},
   "source": [
    "## 3. Rock Paper Scissors"
   ]
  },
  {
   "cell_type": "markdown",
   "id": "94f4e381",
   "metadata": {},
   "source": [
    "In this classic game, the computer will choose one of the 3 options - Rock, Paper, or Scissor. It will then ask the user to make a similar choice. The rules are:\n",
    "* Rock defeats Scissors\n",
    "* Paper defeats Rock\n",
    "* Scissors defeats Paper\n",
    "\n",
    "The computer will display the results accordingly. If both the computer and the user choose the same option, then it is a tie and neither wins. "
   ]
  },
  {
   "cell_type": "markdown",
   "id": "175f120a",
   "metadata": {},
   "source": [
    "### Concepts Learned\n",
    "\n",
    "1. Making a random choice from a list using the 'random' Python library\n",
    "2. Working with Lists\n",
    "3. The 'while' loop\n",
    "4. The if-elif-else conditional statements\n",
    "5. The 'and' and 'or' logical operators\n",
    "6. The 'break' and 'continue' statements\n"
   ]
  },
  {
   "cell_type": "code",
   "execution_count": 7,
   "id": "128a0d5a",
   "metadata": {},
   "outputs": [],
   "source": [
    "# Import the necessary Python library \n",
    "\n",
    "import random"
   ]
  },
  {
   "cell_type": "code",
   "execution_count": 8,
   "id": "0cf474ba",
   "metadata": {},
   "outputs": [],
   "source": [
    "# Define an empty variable 'i'\n",
    "# # This will later store the user's input\n",
    "\n",
    "i = \"\"\n",
    "\n",
    "\n",
    "# Define a list containing the possible options - Rock, Paper, or Scissors\n",
    "\n",
    "l = [\"rock\",\"paper\",\"scissors\"]"
   ]
  },
  {
   "cell_type": "code",
   "execution_count": 12,
   "id": "45c8147f",
   "metadata": {},
   "outputs": [
    {
     "name": "stdout",
     "output_type": "stream",
     "text": [
      "Let's play Rock, Paper, Scissors!\n",
      "\n",
      "Rock Paper Scissors Shoot!Scissors\n",
      "Your choice is scissors\n",
      "My choice is scissors\n",
      "It's a tie! Let's go again!\n",
      "Rock Paper Scissors Shoot!ROCK\n",
      "Your choice is rock\n",
      "My choice is scissors\n",
      "You win! Let's go again!\n",
      "Rock Paper Scissors Shoot!PapEr\n",
      "Your choice is paper\n",
      "My choice is rock\n",
      "You win! Let's go again!\n",
      "Rock Paper Scissors Shoot!watermelon\n",
      "Your choice is watermelon\n",
      "My choice is rock\n",
      "Invalid input, please try again.\n",
      "Rock Paper Scissors Shoot!quit\n",
      "Your choice is quit\n",
      "My choice is rock\n",
      "Thanks for playing. Bye!\n"
     ]
    }
   ],
   "source": [
    "# Print greetings\n",
    "print(\"Let's play Rock, Paper, Scissors!\")\n",
    "print(\"\")\n",
    "\n",
    "# Open a while loop\n",
    "while True:\n",
    "    \n",
    "    # Define variable 'c' which store the program's random choice\n",
    "    c = random.choice(l)\n",
    "    \n",
    "    # Input a string from the user and covert it into lower case\n",
    "    i = input(\"Rock Paper Scissors Shoot!\").lower()\n",
    "    print(\"Your choice is\", i)\n",
    "    print(\"My choice is\", c)\n",
    "    \n",
    "    # Define the winning conditions using logical operators\n",
    "    if (i==\"rock\" and c==\"scissors\") or (i==\"paper\" and c==\"rock\") or (i==\"scissors\" and c==\"paper\"):\n",
    "        print(\"You win! Let's go again!\")  \n",
    "        continue\n",
    "    elif i==c:\n",
    "        print(\"It's a tie! Let's go again!\")\n",
    "        continue\n",
    "    elif i==\"quit\":\n",
    "        print(\"Thanks for playing. Bye!\")\n",
    "        break\n",
    "    \n",
    "    elif i not in l:\n",
    "        print(\"Invalid input, please try again.\")\n",
    "        continue\n",
    "    else:\n",
    "        print(\"I win! Let's go again!\")\n",
    "        continue\n",
    "    \n",
    "    \n",
    "        \n",
    "        "
   ]
  },
  {
   "cell_type": "markdown",
   "id": "ff1f01a9",
   "metadata": {},
   "source": [
    "### Additional Practice"
   ]
  },
  {
   "cell_type": "markdown",
   "id": "38e132b7",
   "metadata": {},
   "source": [
    "Here are some ideas for how you can improve this program:\n",
    "\n",
    "1. You can turn this game into a 'best two out of three' kind of game. For example, you can set the total number of tries to 3, and allow the program to run 3 times. If the user wins 2 rounds, they win. If not, the computer wins. \n",
    "2. You can also input the number of tries from the user and allow the program to iterate that many times. Keep counting the number of wins and losses, and print that at the end to decide who wins and who loses. \n",
    "3. You can also create variations of the game. Here are a few suggestions - \n",
    "    * You can expand the program a bit to turn this into a multiplayer game, where the computer randomly makes choices for each player and makes them play against each other until one of them wins. Here, the only input required would be which user wants which player, and the rest is automated. For example, let's say Jill, Jack, and John are playing against each other. Jill is player 1, Jack is player 2, and John is player 3. The computer then makes random choices for all three of them, resulting in Jill beating Jack, and then beating John.Thus, Jill wins the game. This can be done with multiple players.  \n",
    "    * The user, or multiple users, can also choose in the beginning which player they think will win. For example, let's say the program is set to have 4 players. Out of 6 users, 2 of them choose player 1, 3 choose player 2, 1 chooses player 3, and nobody chooses player 4. The program can then run until one player emerges victorious, and those users win. \n",
    "    * The game can also be changed up a bit, where the user wins if they choose the same choice as the program (similar to the coin toss program). For example, if the program chooses 'Paper', the user should also have chosen 'Paper'. Any other choice makes them lose the game. "
   ]
  },
  {
   "cell_type": "markdown",
   "id": "65a7852f",
   "metadata": {},
   "source": [
    "**********************"
   ]
  },
  {
   "cell_type": "markdown",
   "id": "2dd58fa1",
   "metadata": {},
   "source": [
    "## 4. Scrambled Words"
   ]
  },
  {
   "cell_type": "markdown",
   "id": "813c8a12",
   "metadata": {},
   "source": [
    "In this game, the computer randomly picks a word out of a list of words, scrambles the letters in the selected word, and then displays the scrambled word to the user. The user has to try and guess what the correct word is. If they are wrong, they get to try again. If they are right, the computer will provide them with another word. "
   ]
  },
  {
   "cell_type": "markdown",
   "id": "08aeb938",
   "metadata": {},
   "source": [
    "### Concepts Learned\n",
    "\n",
    "1. Making a random choice from a list using the 'random' Python library\n",
    "2. Working with Python library utilities\n",
    "3. Working with Lists\n",
    "4. The 'while' loop\n",
    "4. The if-elif-else conditional statements\n",
    "5. The 'break' and 'continue' statements\n",
    "6. Working with functions"
   ]
  },
  {
   "cell_type": "code",
   "execution_count": 13,
   "id": "7f17afa4",
   "metadata": {},
   "outputs": [],
   "source": [
    "# Import the necessary Python libraries\n",
    "\n",
    "import random\n",
    "from random import shuffle"
   ]
  },
  {
   "cell_type": "code",
   "execution_count": 14,
   "id": "88990b0f",
   "metadata": {},
   "outputs": [],
   "source": [
    "# Define the list of words\n",
    "\n",
    "words = [\"ukulele\", \"guitar\", \"piano\", \"accordion\", \"drums\", \"bongo\", \"kalimba\", \"trumpet\"]\n",
    "\n",
    "# Define a function to scramble a given word\n",
    "# Convert the string into a list data type\n",
    "# Shuffle the elements in the list using the 'random.shuffle()' function\n",
    "# Convert the list back into a string and return it\n",
    "\n",
    "def scramble_word(word):\n",
    "    word_list = list(word)\n",
    "    random.shuffle(word_list)\n",
    "    return ''.join(word_list)\n"
   ]
  },
  {
   "cell_type": "code",
   "execution_count": 15,
   "id": "59a0fce0",
   "metadata": {},
   "outputs": [
    {
     "name": "stdout",
     "output_type": "stream",
     "text": [
      "Guess the correct word from the scrambled letters!\n",
      "Enter 'quit' to stop playing.\n",
      "Your word is:  nboog\n",
      "Your guess is: kitten\n",
      "Wrong, try again!\n",
      "Your word is:  gobon\n",
      "Your guess is: BONGO\n",
      "Correct! Great job! Let's go again.\n",
      "Your word is:  iuragt\n",
      "Your guess is: guitar\n",
      "Correct! Great job! Let's go again.\n",
      "Your word is:  ndorcoaic\n",
      "Your guess is: quit\n",
      "Thanks for playing!\n"
     ]
    }
   ],
   "source": [
    "# Print Greetings\n",
    "print(\"Guess the correct word from the scrambled letters!\")\n",
    "print(\"Enter 'quit' to stop playing.\")\n",
    "\n",
    "# Randomly select a word from the pre-defined list \n",
    "i = random.choice(words)\n",
    "   \n",
    "# Open a while loop    \n",
    "while True:    \n",
    "    \n",
    "    # Call the function to scramble the chosen word and display it\n",
    "    scrambled_word = scramble_word(i)\n",
    "    print(\"Your word is: \", scrambled_word)\n",
    "    \n",
    "    # Input the user's guess\n",
    "    guess = input(\"Your guess is: \").lower()\n",
    "    \n",
    "    # If the guess is correct, output an appropriate response and allow the user to play again with a different word\n",
    "    # If the guess is incorrect, allow the user to try again \n",
    "    # (The letters may be scrambled differently to give the user a different perspective)\n",
    "    # If the user enters 'quit', exit the game\n",
    "    if guess == i:\n",
    "        print(\"Correct! Great job! Let's go again.\")\n",
    "        i = random.choice(words)                     \n",
    "    elif guess == \"quit\":\n",
    "        print(\"Thanks for playing!\")\n",
    "        break\n",
    "    else:\n",
    "        print(\"Wrong, try again!\")\n",
    "        continue\n",
    "    "
   ]
  },
  {
   "cell_type": "markdown",
   "id": "d1e14391",
   "metadata": {},
   "source": [
    "### Additional Practice"
   ]
  },
  {
   "cell_type": "markdown",
   "id": "ce6ef2d4",
   "metadata": {},
   "source": [
    "Here are some ideas for how you can improve this program:\n",
    "\n",
    "1. You can create several word lists based on different categories and allow the user to pick a category before playing the game. For example, if the program has 'Instruments', 'Flowers', 'Countries', 'Colours', and 'Animals' as different categories, the user can pick 'Animals', and then receive animal names to unscramble. \n",
    "2. You can have a random list of words (each having nothing in common with the other), and when you display the scrambled word, you can provide some extra hints to help the user figure out what the word might be. For example, if the word is 'Constellation', you can provide clues like 'A group of stars forming a pattern in the sky' or 'A pattern of stars typically named after a mythological figure'.\n",
    "3. You can have a total of 3 different clues and distribute these hints depending on the attempt number. For example, if the word is 'Hippopotamus', you can give each clue after every 3 tries. So the first clue comes after the 3rd attempt, the second clue after the 6th attempt, and the third clue after the 9th attempt.\n",
    "4. You can also limit the number of guesses. For example, allow the user only 5 tries, and if they cannot figure out the word they lose the game. "
   ]
  },
  {
   "cell_type": "markdown",
   "id": "ebaa204e",
   "metadata": {},
   "source": [
    "******************"
   ]
  },
  {
   "cell_type": "markdown",
   "id": "f8546b5d",
   "metadata": {},
   "source": [
    "## 5. Best Four Out of Five Coin Toss"
   ]
  },
  {
   "cell_type": "markdown",
   "id": "9480a226",
   "metadata": {},
   "source": [
    "This game is a modified simulation of the coin toss game, where the user has 5 chances to choose between heads or tails. The computer will also randomly choose one of the two options each time. With each turn, the program stores the number of wins and losses made by the user. If the number of wins exceeds the number of losses, the user wins, and vice versa. The program will also tell the user how many guesses were invalid. "
   ]
  },
  {
   "cell_type": "markdown",
   "id": "2f382430",
   "metadata": {},
   "source": [
    "### Concepts Learned\n",
    "\n",
    "1. Making a random choice from a list using the 'random' Python library\n",
    "2. Working with Lists\n",
    "3. The 'for' loop\n",
    "4. The if-elif-else conditional statements\n",
    "5. The 'break' statement\n",
    "6. Incrementing numeric variables as a counting method"
   ]
  },
  {
   "cell_type": "code",
   "execution_count": 16,
   "id": "7a314924",
   "metadata": {},
   "outputs": [],
   "source": [
    "# Import the necessary Python library\n",
    "\n",
    "import random"
   ]
  },
  {
   "cell_type": "code",
   "execution_count": 17,
   "id": "7dd29776",
   "metadata": {},
   "outputs": [],
   "source": [
    "# Define empty variable 'i'\n",
    "# Define 'count', 'wins', 'loss', 'invalid', each with value 0\n",
    "\n",
    "i = \"\"\n",
    "count = 0\n",
    "wins = 0\n",
    "loss = 0\n",
    "invalid = 0\n",
    "\n",
    "# Define a list containing the possible options - Heads or Tails\n",
    "\n",
    "n = [\"heads\",\"tails\"]"
   ]
  },
  {
   "cell_type": "code",
   "execution_count": 18,
   "id": "d9bdde71",
   "metadata": {},
   "outputs": [
    {
     "name": "stdout",
     "output_type": "stream",
     "text": [
      "Welcome to the Coin Toss Game!\n",
      "You can type 'quit' to quit the game anytime.\n",
      "Let's begin!\n",
      "Heads or Tails? heads\n",
      "Heads or Tails? tails\n",
      "Heads or Tails? TAiLs\n",
      "Heads or Tails? hello\n",
      "Invalid Input\n",
      "Heads or Tails? heads\n",
      "You won 3 times.\n",
      "You lost 1 times.\n",
      "You provided 1 invalid inputs.\n",
      "Congrats! You won the whole game!\n"
     ]
    }
   ],
   "source": [
    "# Print greetings\n",
    "print(\"Welcome to the Coin Toss Game!\")\n",
    "print(\"You can type 'quit' to quit the game anytime.\")\n",
    "print(\"Let's begin!\")\n",
    "\n",
    "# Open a while loop\n",
    "for count in range(0,5):\n",
    "    \n",
    "    # Store the program's random choice from the given list\n",
    "    c = random.choice(n)\n",
    "    i = input(\"Heads or Tails? \").lower()\n",
    "    \n",
    "    # Count the number of wins, losses, and invalid inputs from the user\n",
    "    # If the user enters 'quit', exit the game\n",
    "    if i == c:\n",
    "        wins += 1\n",
    "    elif i != c:\n",
    "        if i in n:\n",
    "            loss += 1\n",
    "        elif i == \"quit\":\n",
    "            print(\"Thanks for playing!\")\n",
    "            break\n",
    "        else:\n",
    "            print(\"Invalid Input\")\n",
    "            invalid += 1\n",
    "            \n",
    "            \n",
    "            \n",
    "                \n",
    "# Display the number of times the user won, lost, and entered an invalid input                \n",
    "print(\"You won\", wins, \"times.\")\n",
    "print(\"You lost\", loss, \"times.\")\n",
    "print(\"You provided\", invalid, \"invalid inputs.\")\n",
    "\n",
    "# Print an appropriate message based on the outcome\n",
    "if wins > loss:\n",
    "    print(\"Congrats! You won the whole game!\")\n",
    "else:\n",
    "    print(\"Better luck next time!\")"
   ]
  },
  {
   "cell_type": "markdown",
   "id": "ffa6dcda",
   "metadata": {},
   "source": [
    "### Additional Practice"
   ]
  },
  {
   "cell_type": "markdown",
   "id": "79a8e7cb",
   "metadata": {},
   "source": [
    "You can try following the suggestions provided for the coin toss game mentioned earlier. What other ideas can you come up with?\n",
    "\n"
   ]
  },
  {
   "cell_type": "markdown",
   "id": "c01c3e2f",
   "metadata": {},
   "source": [
    "*******************"
   ]
  }
 ],
 "metadata": {
  "kernelspec": {
   "display_name": "Python 3 (ipykernel)",
   "language": "python",
   "name": "python3"
  },
  "language_info": {
   "codemirror_mode": {
    "name": "ipython",
    "version": 3
   },
   "file_extension": ".py",
   "mimetype": "text/x-python",
   "name": "python",
   "nbconvert_exporter": "python",
   "pygments_lexer": "ipython3",
   "version": "3.10.11"
  }
 },
 "nbformat": 4,
 "nbformat_minor": 5
}
